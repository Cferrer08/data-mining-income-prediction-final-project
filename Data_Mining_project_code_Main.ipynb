{
  "nbformat": 4,
  "nbformat_minor": 0,
  "metadata": {
    "colab": {
      "provenance": [],
      "include_colab_link": true
    },
    "kernelspec": {
      "name": "python3",
      "display_name": "Python 3"
    },
    "language_info": {
      "name": "python"
    }
  },
  "cells": [
    {
      "cell_type": "markdown",
      "metadata": {
        "id": "view-in-github",
        "colab_type": "text"
      },
      "source": [
        "<a href=\"https://colab.research.google.com/github/albertbaezd/data-mining-final-project/blob/develop/Data_Mining_project_code_Main.ipynb\" target=\"_parent\"><img src=\"https://colab.research.google.com/assets/colab-badge.svg\" alt=\"Open In Colab\"/></a>"
      ]
    },
    {
      "cell_type": "code",
      "execution_count": null,
      "metadata": {
        "id": "ly_y7fFQn9r4"
      },
      "outputs": [],
      "source": [
        "import pandas as pd\n",
        "from google.colab import drive\n",
        "from sklearn.utils import resample\n",
        "import matplotlib.pyplot as plt\n",
        "from imblearn.over_sampling import SMOTE\n",
        "from sklearn.model_selection import train_test_split\n",
        "from sklearn.linear_model import LogisticRegression\n",
        "from sklearn.metrics import classification_report\n",
        "\n",
        "# import the datasets: -  - Albert: remove comment if you want to manually place the files here. If not, it's going to use a Google Drive folder\n",
        "# train_data = pd.read_csv(\"census-income.data.csv\") - Albert: remove comment if you want to manually place the files here. If not, it's going to use a Google Drive folder\n",
        "# test_data = pd.read_csv(\"census-income.test.csv\")  - Albert: remove comment if you want to manually place the files here. If not, it's going to use a Google Drive folder\n",
        "\n",
        "#Display the contents of the train_data:\n",
        "#train_data"
      ]
    },
    {
      "cell_type": "code",
      "source": [
        "'''\n",
        "Here, we authenticate with Google Drive to add the datafiles from a Drive folder\n",
        "'''\n",
        "from google.colab import drive\n",
        "drive.mount('/content/drive')\n",
        "\n",
        "train_data = pd.read_csv(\"/content/drive/My Drive/data-mining-csv-files/census-income.data.csv\") #- Albert: remove comment if you want to manually place the files here. If not, it's going to use a Google Drive folder\n",
        "test_data = pd.read_csv(\"/content/drive/My Drive/data-mining-csv-files/census-income.test.csv\")  #- Albert: remove comment if you want to manually place the files here. If not, it's going to use a Google Drive folder\n",
        "\n",
        "# Displaying results:\n",
        "\n",
        "print(train_data)\n",
        "print(test_data)"
      ],
      "metadata": {
        "colab": {
          "base_uri": "https://localhost:8080/"
        },
        "id": "GdEpeDVFCuBf",
        "outputId": "b42ec9fa-fbef-443c-e7a3-d9697d26a786"
      },
      "execution_count": null,
      "outputs": [
        {
          "output_type": "stream",
          "name": "stdout",
          "text": [
            "Drive already mounted at /content/drive; to attempt to forcibly remount, call drive.mount(\"/content/drive\", force_remount=True).\n",
            "       age         work-class  fnlwgt    education  education_num  \\\n",
            "0       39          State-gov   77516    Bachelors             13   \n",
            "1       50   Self-emp-not-inc   83311    Bachelors             13   \n",
            "2       38            Private  215646      HS-grad              9   \n",
            "3       53            Private  234721         11th              7   \n",
            "4       28            Private  338409    Bachelors             13   \n",
            "...    ...                ...     ...          ...            ...   \n",
            "32556   27            Private  257302   Assoc-acdm             12   \n",
            "32557   40            Private  154374      HS-grad              9   \n",
            "32558   58            Private  151910      HS-grad              9   \n",
            "32559   22            Private  201490      HS-grad              9   \n",
            "32560   52       Self-emp-inc  287927      HS-grad              9   \n",
            "\n",
            "            marital-status          occupation    relationship    race  \\\n",
            "0            Never-married        Adm-clerical   Not-in-family   White   \n",
            "1       Married-civ-spouse     Exec-managerial         Husband   White   \n",
            "2                 Divorced   Handlers-cleaners   Not-in-family   White   \n",
            "3       Married-civ-spouse   Handlers-cleaners         Husband   Black   \n",
            "4       Married-civ-spouse      Prof-specialty            Wife   Black   \n",
            "...                    ...                 ...             ...     ...   \n",
            "32556   Married-civ-spouse        Tech-support            Wife   White   \n",
            "32557   Married-civ-spouse   Machine-op-inspct         Husband   White   \n",
            "32558              Widowed        Adm-clerical       Unmarried   White   \n",
            "32559        Never-married        Adm-clerical       Own-child   White   \n",
            "32560   Married-civ-spouse     Exec-managerial            Wife   White   \n",
            "\n",
            "           sex  capital-gain  capital-loss  hours-worked-per-week  \\\n",
            "0         Male          2174             0                     40   \n",
            "1         Male             0             0                     13   \n",
            "2         Male             0             0                     40   \n",
            "3         Male             0             0                     40   \n",
            "4       Female             0             0                     40   \n",
            "...        ...           ...           ...                    ...   \n",
            "32556   Female             0             0                     38   \n",
            "32557     Male             0             0                     40   \n",
            "32558   Female             0             0                     40   \n",
            "32559     Male             0             0                     20   \n",
            "32560   Female         15024             0                     40   \n",
            "\n",
            "       native-country Unnamed: 14  \n",
            "0       United-States       <=50K  \n",
            "1       United-States       <=50K  \n",
            "2       United-States       <=50K  \n",
            "3       United-States       <=50K  \n",
            "4                Cuba       <=50K  \n",
            "...               ...         ...  \n",
            "32556   United-States       <=50K  \n",
            "32557   United-States        >50K  \n",
            "32558   United-States       <=50K  \n",
            "32559   United-States       <=50K  \n",
            "32560   United-States        >50K  \n",
            "\n",
            "[32561 rows x 15 columns]\n",
            "       age     work-class  fnlwgt      education  education_num  \\\n",
            "0       25        Private  226802           11th              7   \n",
            "1       38        Private   89814        HS-grad              9   \n",
            "2       28      Local-gov  336951     Assoc-acdm             12   \n",
            "3       44        Private  160323   Some-college             10   \n",
            "4       18              ?  103497   Some-college             10   \n",
            "...    ...            ...     ...            ...            ...   \n",
            "16276   39        Private  215419      Bachelors             13   \n",
            "16277   64              ?  321403        HS-grad              9   \n",
            "16278   38        Private  374983      Bachelors             13   \n",
            "16279   44        Private   83891      Bachelors             13   \n",
            "16280   35   Self-emp-inc  182148      Bachelors             13   \n",
            "\n",
            "            marital-status          occupation     relationship  \\\n",
            "0            Never-married   Machine-op-inspct        Own-child   \n",
            "1       Married-civ-spouse     Farming-fishing          Husband   \n",
            "2       Married-civ-spouse     Protective-serv          Husband   \n",
            "3       Married-civ-spouse   Machine-op-inspct          Husband   \n",
            "4            Never-married                   ?        Own-child   \n",
            "...                    ...                 ...              ...   \n",
            "16276             Divorced      Prof-specialty    Not-in-family   \n",
            "16277              Widowed                   ?   Other-relative   \n",
            "16278   Married-civ-spouse      Prof-specialty          Husband   \n",
            "16279             Divorced        Adm-clerical        Own-child   \n",
            "16280   Married-civ-spouse     Exec-managerial          Husband   \n",
            "\n",
            "                      race      sex  capital-gain  capital-loss  \\\n",
            "0                    Black     Male             0             0   \n",
            "1                    White     Male             0             0   \n",
            "2                    White     Male             0             0   \n",
            "3                    Black     Male          7688             0   \n",
            "4                    White   Female             0             0   \n",
            "...                    ...      ...           ...           ...   \n",
            "16276                White   Female             0             0   \n",
            "16277                Black     Male             0             0   \n",
            "16278                White     Male             0             0   \n",
            "16279   Asian-Pac-Islander     Male          5455             0   \n",
            "16280                White     Male             0             0   \n",
            "\n",
            "       hours-worked-per-week  native-country Unnamed: 14  \n",
            "0                         40   United-States      <=50K.  \n",
            "1                         50   United-States      <=50K.  \n",
            "2                         40   United-States       >50K.  \n",
            "3                         40   United-States       >50K.  \n",
            "4                         30   United-States      <=50K.  \n",
            "...                      ...             ...         ...  \n",
            "16276                     36   United-States      <=50K.  \n",
            "16277                     40   United-States      <=50K.  \n",
            "16278                     50   United-States      <=50K.  \n",
            "16279                     40   United-States      <=50K.  \n",
            "16280                     60   United-States       >50K.  \n",
            "\n",
            "[16281 rows x 15 columns]\n"
          ]
        }
      ]
    },
    {
      "cell_type": "markdown",
      "source": [
        "## **Addressing the imbalanced data**"
      ],
      "metadata": {
        "id": "T8HjzvxbuPrj"
      }
    },
    {
      "cell_type": "code",
      "source": [
        "#Balancing the data:\n",
        "##Target/Class distribution\n",
        "x = train_data.drop([\"Income-per-year\"], axis=1)\n",
        "y = train_data[\"Income-per-year\"]\n",
        "y.value_counts()"
      ],
      "metadata": {
        "colab": {
          "base_uri": "https://localhost:8080/"
        },
        "id": "EwZxJ_zSuAK0",
        "outputId": "35fedcf2-4c9a-4f46-a844-aad36534266c"
      },
      "execution_count": null,
      "outputs": [
        {
          "output_type": "execute_result",
          "data": {
            "text/plain": [
              "Income-per-year\n",
              " <=50K    24720\n",
              " >50K      7841\n",
              "Name: count, dtype: int64"
            ]
          },
          "metadata": {},
          "execution_count": 14
        }
      ]
    },
    {
      "cell_type": "code",
      "source": [
        "##Plotting a piechart for the distribution of the class label.\n",
        "y.value_counts().plot.pie(autopct=\"%.2f\") #below 50k is almost 3 times more than over 50k"
      ],
      "metadata": {
        "colab": {
          "base_uri": "https://localhost:8080/",
          "height": 423
        },
        "id": "DHAbXzJxuBcA",
        "outputId": "ae2ca10a-9a9b-4eb8-842a-b2f2b1d88208"
      },
      "execution_count": null,
      "outputs": [
        {
          "output_type": "execute_result",
          "data": {
            "text/plain": [
              "<Axes: ylabel='count'>"
            ]
          },
          "metadata": {},
          "execution_count": 15
        },
        {
          "output_type": "display_data",
          "data": {
            "text/plain": [
              "<Figure size 640x480 with 1 Axes>"
            ],
            "image/png": "[encoded data removed]"
          },
          "metadata": {}
        }
      ]
    },
    {
      "cell_type": "markdown",
      "source": [
        "1. Undersampling"
      ],
      "metadata": {
        "id": "cm0qPHLIv8ys"
      }
    },
    {
      "cell_type": "code",
      "source": [
        "#from imblearn.under_sampling import RandomUnderSampler\n",
        "\n",
        "# Initialize RandomUnderSampler with a sampling strategy of 1 (equalizing the classes)\n",
        "#rus = RandomUnderSampler(sampling_strategy=1)\n",
        "\n",
        "# Perform random undersampling on the target variable\n",
        "#X_resampled, y_resampled = rus.fit_resample(x, y)\n",
        "\n",
        "# Target/Class distribution after undersampling\n",
        "#class_distribution_after = y_resampled.value_counts()\n",
        "#print(class_distribution_after)"
      ],
      "metadata": {
        "colab": {
          "base_uri": "https://localhost:8080/"
        },
        "id": "2wgzH7BzwBQr",
        "outputId": "98ccd63a-9661-4fe4-ee1d-6680fbb9d96d"
      },
      "execution_count": null,
      "outputs": [
        {
          "output_type": "stream",
          "name": "stdout",
          "text": [
            "Income-per-year\n",
            " <=50K    7841\n",
            " >50K     7841\n",
            "Name: count, dtype: int64\n"
          ]
        }
      ]
    },
    {
      "cell_type": "code",
      "source": [
        "# Plotting a pie chart for the distribution of the class label after undersampling\n",
        "#plt.subplot(1, 2, 2)\n",
        "#class_distribution_after.plot.pie(autopct=\"%.2f%%\", labels=None)\n",
        "#plt.ylabel('')\n",
        "#plt.title('Class Distribution After Undersampling')\n",
        "#plt.legend(labels=class_distribution_after.index, loc='upper right')\n",
        "\n",
        "#plt.tight_layout()\n",
        "#plt.show()"
      ],
      "metadata": {
        "colab": {
          "base_uri": "https://localhost:8080/",
          "height": 356
        },
        "id": "cjqgcCYgzyRU",
        "outputId": "ed86c476-bfa7-4ff0-8f45-531f6d18cd7d"
      },
      "execution_count": null,
      "outputs": [
        {
          "output_type": "display_data",
          "data": {
            "text/plain": [
              "<Figure size 640x480 with 1 Axes>"
            ],
            "image/png": "[encoded data removed]"
          },
          "metadata": {}
        }
      ]
    },
    {
      "cell_type": "markdown",
      "source": [
        "2. SMOTE"
      ],
      "metadata": {
        "id": "L3EhH7UPz_Cc"
      }
    },
    {
      "cell_type": "code",
      "source": [
        "## dealing with imbalanced data using SMOTE - daniela\n",
        "x_train, y_train = train_test_split(x, y, test_size=0.2, random_state=42)\n",
        "\n",
        "smote = SMOTE(sampling_strategy=0.5, random_state=42)\n",
        "x_train_oversampled, y_train_oversampled = smote.fit_resample(x_train, y_train)\n",
        "\n",
        "model = LogisticRegression()\n",
        "model.fit(x_train_oversampled, y_train_oversampled)\n",
        "\n",
        "y_pred = model.predict(x_test)\n",
        "print(classification_report(y_test, y_pred))"
      ],
      "metadata": {
        "id": "OOEpQDpN0B0Y"
      },
      "execution_count": null,
      "outputs": []
    }
  ]
}