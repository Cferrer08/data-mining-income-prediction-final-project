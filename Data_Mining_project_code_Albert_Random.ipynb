{
  "nbformat": 4,
  "nbformat_minor": 0,
  "metadata": {
    "colab": {
      "provenance": [],
      "authorship_tag": "ABX9TyN75S/gNFLVAym5nfIxfeWT",
      "include_colab_link": true
    },
    "kernelspec": {
      "name": "python3",
      "display_name": "Python 3"
    },
    "language_info": {
      "name": "python"
    }
  },
  "cells": [
    {
      "cell_type": "markdown",
      "metadata": {
        "id": "view-in-github",
        "colab_type": "text"
      },
      "source": [
        "<a href=\"https://colab.research.google.com/github/albertbaezd/data-mining-final-project/blob/develop/Data_Mining_project_code_Albert_Random.ipynb\" target=\"_parent\"><img src=\"https://colab.research.google.com/assets/colab-badge.svg\" alt=\"Open In Colab\"/></a>"
      ]
    },
    {
      "cell_type": "code",
      "execution_count": null,
      "metadata": {
        "id": "c-24Su6VnRt3"
      },
      "outputs": [],
      "source": [
        "import pandas as pd\n",
        "from google.colab import drive\n",
        "from sklearn.utils import resample\n",
        "import matplotlib.pyplot as plt\n",
        "from imblearn.over_sampling import SMOTE\n",
        "from sklearn.model_selection import train_test_split\n",
        "from sklearn.linear_model import LogisticRegression\n",
        "from sklearn.metrics import classification_report\n",
        "from sklearn.ensemble import RandomForestClassifier\n",
        "\n",
        "\n",
        "# import the datasets: -  - Albert: remove comment if you want to manually place the files here. If not, it's going to use a Google Drive folder\n",
        "# train_data = pd.read_csv(\"census-income.data.csv\") - Albert: remove comment if you want to manually place the files here. If not, it's going to use a Google Drive folder\n",
        "# test_data = pd.read_csv(\"census-income.test.csv\")  - Albert: remove comment if you want to manually place the files here. If not, it's going to use a Google Drive folder\n",
        "\n"
      ]
    },
    {
      "cell_type": "code",
      "source": [
        "'''\n",
        "Here, we authenticate with Google Drive to add the datafiles from a Drive folder\n",
        "\n",
        "Instructions:\n",
        "\n",
        "1. Create a folder in your Google Drive, called data-mining-csv-files\n",
        "2. Insert both csv files (test and train) with the original names there.\n",
        "3. Just run this cell to import the code\n",
        "'''\n",
        "from google.colab import drive\n",
        "drive.mount('/content/drive')\n",
        "\n",
        "train_data = pd.read_csv(\"/content/drive/My Drive/data-mining-csv-files/census-income.data.csv\") #- Albert: remove comment if you want to manually place the files here. If not, it's going to use a Google Drive folder\n",
        "test_data = pd.read_csv(\"/content/drive/My Drive/data-mining-csv-files/census-income.test.csv\")  #- Albert: remove comment if you want to manually place the files here. If not, it's going to use a Google Drive folder\n",
        "\n",
        "# Displaying results:\n",
        "\n",
        "print(train_data)\n",
        "print(test_data)"
      ],
      "metadata": {
        "colab": {
          "base_uri": "https://localhost:8080/"
        },
        "id": "QmTZkEWhn0w0",
        "outputId": "ce7d0358-2e4a-480a-b92d-0b2acde0aed6"
      },
      "execution_count": null,
      "outputs": [
        {
          "output_type": "stream",
          "name": "stdout",
          "text": [
            "Mounted at /content/drive\n",
            "       age         work-class  fnlwgt    education  education_num  \\\n",
            "0       39          State-gov   77516    Bachelors             13   \n",
            "1       50   Self-emp-not-inc   83311    Bachelors             13   \n",
            "2       38            Private  215646      HS-grad              9   \n",
            "3       53            Private  234721         11th              7   \n",
            "4       28            Private  338409    Bachelors             13   \n",
            "...    ...                ...     ...          ...            ...   \n",
            "32556   27            Private  257302   Assoc-acdm             12   \n",
            "32557   40            Private  154374      HS-grad              9   \n",
            "32558   58            Private  151910      HS-grad              9   \n",
            "32559   22            Private  201490      HS-grad              9   \n",
            "32560   52       Self-emp-inc  287927      HS-grad              9   \n",
            "\n",
            "            marital-status          occupation    relationship    race  \\\n",
            "0            Never-married        Adm-clerical   Not-in-family   White   \n",
            "1       Married-civ-spouse     Exec-managerial         Husband   White   \n",
            "2                 Divorced   Handlers-cleaners   Not-in-family   White   \n",
            "3       Married-civ-spouse   Handlers-cleaners         Husband   Black   \n",
            "4       Married-civ-spouse      Prof-specialty            Wife   Black   \n",
            "...                    ...                 ...             ...     ...   \n",
            "32556   Married-civ-spouse        Tech-support            Wife   White   \n",
            "32557   Married-civ-spouse   Machine-op-inspct         Husband   White   \n",
            "32558              Widowed        Adm-clerical       Unmarried   White   \n",
            "32559        Never-married        Adm-clerical       Own-child   White   \n",
            "32560   Married-civ-spouse     Exec-managerial            Wife   White   \n",
            "\n",
            "           sex  capital-gain  capital-loss  hours-worked-per-week  \\\n",
            "0         Male          2174             0                     40   \n",
            "1         Male             0             0                     13   \n",
            "2         Male             0             0                     40   \n",
            "3         Male             0             0                     40   \n",
            "4       Female             0             0                     40   \n",
            "...        ...           ...           ...                    ...   \n",
            "32556   Female             0             0                     38   \n",
            "32557     Male             0             0                     40   \n",
            "32558   Female             0             0                     40   \n",
            "32559     Male             0             0                     20   \n",
            "32560   Female         15024             0                     40   \n",
            "\n",
            "       native-country  income  \n",
            "0       United-States   <=50K  \n",
            "1       United-States   <=50K  \n",
            "2       United-States   <=50K  \n",
            "3       United-States   <=50K  \n",
            "4                Cuba   <=50K  \n",
            "...               ...     ...  \n",
            "32556   United-States   <=50K  \n",
            "32557   United-States    >50K  \n",
            "32558   United-States   <=50K  \n",
            "32559   United-States   <=50K  \n",
            "32560   United-States    >50K  \n",
            "\n",
            "[32561 rows x 15 columns]\n",
            "       age     work-class  fnlwgt      education  education_num  \\\n",
            "0       25        Private  226802           11th              7   \n",
            "1       38        Private   89814        HS-grad              9   \n",
            "2       28      Local-gov  336951     Assoc-acdm             12   \n",
            "3       44        Private  160323   Some-college             10   \n",
            "4       18              ?  103497   Some-college             10   \n",
            "...    ...            ...     ...            ...            ...   \n",
            "16276   39        Private  215419      Bachelors             13   \n",
            "16277   64              ?  321403        HS-grad              9   \n",
            "16278   38        Private  374983      Bachelors             13   \n",
            "16279   44        Private   83891      Bachelors             13   \n",
            "16280   35   Self-emp-inc  182148      Bachelors             13   \n",
            "\n",
            "            marital-status          occupation     relationship  \\\n",
            "0            Never-married   Machine-op-inspct        Own-child   \n",
            "1       Married-civ-spouse     Farming-fishing          Husband   \n",
            "2       Married-civ-spouse     Protective-serv          Husband   \n",
            "3       Married-civ-spouse   Machine-op-inspct          Husband   \n",
            "4            Never-married                   ?        Own-child   \n",
            "...                    ...                 ...              ...   \n",
            "16276             Divorced      Prof-specialty    Not-in-family   \n",
            "16277              Widowed                   ?   Other-relative   \n",
            "16278   Married-civ-spouse      Prof-specialty          Husband   \n",
            "16279             Divorced        Adm-clerical        Own-child   \n",
            "16280   Married-civ-spouse     Exec-managerial          Husband   \n",
            "\n",
            "                      race      sex  capital-gain  capital-loss  \\\n",
            "0                    Black     Male             0             0   \n",
            "1                    White     Male             0             0   \n",
            "2                    White     Male             0             0   \n",
            "3                    Black     Male          7688             0   \n",
            "4                    White   Female             0             0   \n",
            "...                    ...      ...           ...           ...   \n",
            "16276                White   Female             0             0   \n",
            "16277                Black     Male             0             0   \n",
            "16278                White     Male             0             0   \n",
            "16279   Asian-Pac-Islander     Male          5455             0   \n",
            "16280                White     Male             0             0   \n",
            "\n",
            "       hours-worked-per-week  native-country   income  \n",
            "0                         40   United-States   <=50K.  \n",
            "1                         50   United-States   <=50K.  \n",
            "2                         40   United-States    >50K.  \n",
            "3                         40   United-States    >50K.  \n",
            "4                         30   United-States   <=50K.  \n",
            "...                      ...             ...      ...  \n",
            "16276                     36   United-States   <=50K.  \n",
            "16277                     40   United-States   <=50K.  \n",
            "16278                     50   United-States   <=50K.  \n",
            "16279                     40   United-States   <=50K.  \n",
            "16280                     60   United-States    >50K.  \n",
            "\n",
            "[16281 rows x 15 columns]\n"
          ]
        }
      ]
    },
    {
      "cell_type": "code",
      "source": [
        "import pandas as pd\n",
        "import numpy as np\n",
        "from sklearn.preprocessing import LabelEncoder, OneHotEncoder\n",
        "from sklearn.compose import ColumnTransformer\n",
        "from sklearn.ensemble import RandomForestClassifier\n",
        "from sklearn.metrics import accuracy_score, classification_report\n",
        "from imblearn.over_sampling import SMOTE\n",
        "\n",
        "\n",
        "# Assuming train_data and test_data are already loaded as dataframes\n",
        "# train_data, test_data\n",
        "\n",
        "# Function to preprocess data\n",
        "\n",
        "def preprocess_data(data, transformer=None, is_train=True):\n",
        "    print(\"Initial columns:\", data.columns)  # Initial check of all columns in the dataset\n",
        "\n",
        "    income_column = 'income'\n",
        "    if income_column not in data.columns:\n",
        "        raise ValueError(f\"The column '{income_column}' does not exist in the dataset.\")\n",
        "\n",
        "    # If it's test data, handle the period at the end\n",
        "    if not is_train:\n",
        "        data[income_column] = data[income_column].str.strip().str.replace('.', '')\n",
        "        print(\"Adjusted 'income' for test data:\", data[income_column].unique())  # Debug\n",
        "\n",
        "    # Identify and store categorical features excluding 'income'\n",
        "    categorical_features = data.select_dtypes(include=['object']).columns.tolist()\n",
        "    if income_column in categorical_features:\n",
        "        categorical_features.remove(income_column)\n",
        "    print(\"Categorical features before encoding:\", categorical_features)  # Debug statement\n",
        "\n",
        "    # Apply ColumnTransformer only to categorical features excluding 'income'\n",
        "    if transformer is None:\n",
        "        transformer = ColumnTransformer(\n",
        "            transformers=[('cat', OneHotEncoder(handle_unknown='ignore'), categorical_features)],\n",
        "            remainder='passthrough')\n",
        "        X = transformer.fit_transform(data.drop(columns=[income_column]))\n",
        "    else:\n",
        "        X = transformer.transform(data.drop(columns=[income_column]))\n",
        "\n",
        "    # Now encode the 'income' column after categorical handling\n",
        "    y = LabelEncoder().fit_transform(data[income_column])\n",
        "    print(\"Encoded 'income':\", np.unique(y))  # Debug the output of the encoded income\n",
        "\n",
        "    return X, y, transformer\n",
        "\n",
        "\n",
        "# Function to train the Random Forest model with SMOTE\n",
        "def train_random_forest_with_smote(X, y):\n",
        "    # Apply SMOTE\n",
        "    smote = SMOTE(random_state=42)\n",
        "    X_smote, y_smote = smote.fit_resample(X, y)\n",
        "\n",
        "    # Train the Random Forest\n",
        "    model = RandomForestClassifier(n_estimators=100, random_state=42)\n",
        "    model.fit(X_smote, y_smote)\n",
        "\n",
        "    return model\n",
        "\n",
        "# Evaluate the model\n",
        "def evaluate_model(model, X_test, y_test):\n",
        "    y_pred = model.predict(X_test)\n",
        "    accuracy = accuracy_score(y_test, y_pred)\n",
        "    report = classification_report(y_test, y_pred)\n",
        "\n",
        "    return accuracy, report\n",
        "\n",
        "# Main execution function\n",
        "def main():\n",
        "    # Preprocess training data\n",
        "    X_train, y_train, transformer = preprocess_data(train_data, is_train=True)\n",
        "\n",
        "    # Train model with SMOTE\n",
        "    smote = SMOTE(random_state=42)\n",
        "    X_smote, y_smote = smote.fit_resample(X_train, y_train)\n",
        "    model = RandomForestClassifier(n_estimators=100, random_state=42)\n",
        "    model.fit(X_smote, y_smote)\n",
        "\n",
        "    # Preprocess testing data using the same transformer\n",
        "    X_test, y_test, _ = preprocess_data(test_data, transformer, is_train=False)\n",
        "\n",
        "    # Evaluate the model\n",
        "    accuracy, report = evaluate_model(model, X_test, y_test)\n",
        "    print(f'Accuracy: {accuracy}')\n",
        "    print(f'Classification Report:\\n{report}')\n",
        "\n",
        "if __name__ == '__main__':\n",
        "    main()"
      ],
      "metadata": {
        "colab": {
          "base_uri": "https://localhost:8080/"
        },
        "id": "DMxm_vjjcTWh",
        "outputId": "c658168d-3527-405d-f62c-d8efa7c66a58"
      },
      "execution_count": null,
      "outputs": [
        {
          "output_type": "stream",
          "name": "stdout",
          "text": [
            "Initial columns: Index(['age', 'work-class', 'fnlwgt', 'education', 'education_num',\n",
            "       'marital-status', 'occupation', 'relationship', 'race', 'sex',\n",
            "       'capital-gain', 'capital-loss', 'hours-worked-per-week',\n",
            "       'native-country', 'income'],\n",
            "      dtype='object')\n",
            "Categorical features before encoding: ['work-class', 'education', 'marital-status', 'occupation', 'relationship', 'race', 'sex', 'native-country']\n",
            "Encoded 'income': [0 1]\n",
            "Initial columns: Index(['age', 'work-class', 'fnlwgt', 'education', 'education_num',\n",
            "       'marital-status', 'occupation', 'relationship', 'race', 'sex',\n",
            "       'capital-gain', 'capital-loss', 'hours-worked-per-week',\n",
            "       'native-country', 'income'],\n",
            "      dtype='object')\n",
            "Adjusted 'income' for test data: ['<=50K' '>50K']\n",
            "Categorical features before encoding: ['work-class', 'education', 'marital-status', 'occupation', 'relationship', 'race', 'sex', 'native-country']\n",
            "Encoded 'income': [0 1]\n",
            "Accuracy: 0.8487193661323015\n",
            "Classification Report:\n",
            "              precision    recall  f1-score   support\n",
            "\n",
            "           0       0.89      0.92      0.90     12435\n",
            "           1       0.70      0.62      0.66      3846\n",
            "\n",
            "    accuracy                           0.85     16281\n",
            "   macro avg       0.80      0.77      0.78     16281\n",
            "weighted avg       0.84      0.85      0.85     16281\n",
            "\n"
          ]
        }
      ]
    },
    {
      "cell_type": "code",
      "source": [],
      "metadata": {
        "id": "yuDT5SIupHDp"
      },
      "execution_count": null,
      "outputs": []
    },
    {
      "cell_type": "code",
      "source": [
        "train_data.columns"
      ],
      "metadata": {
        "colab": {
          "base_uri": "https://localhost:8080/"
        },
        "id": "WCVcvQIMpXfw",
        "outputId": "a0afb180-4109-457a-a422-6f2391a3b138"
      },
      "execution_count": null,
      "outputs": [
        {
          "output_type": "execute_result",
          "data": {
            "text/plain": [
              "Index(['age', 'work-class', 'fnlwgt', 'education', 'education_num',\n",
              "       'marital-status', 'occupation', 'relationship', 'race', 'sex',\n",
              "       'capital-gain', 'capital-loss', 'hours-worked-per-week',\n",
              "       'native-country', 'income'],\n",
              "      dtype='object')"
            ]
          },
          "metadata": {},
          "execution_count": 6
        }
      ]
    },
    {
      "cell_type": "code",
      "source": [
        "'''\n",
        "Random Forest implementation\n",
        "'''\n",
        "\n",
        "import pandas as pd\n",
        "from sklearn.ensemble import RandomForestClassifier\n",
        "from sklearn.metrics import accuracy_score, classification_report, confusion_matrix\n",
        "\n",
        "# Step 1 - declaring x and y values for random forests\n",
        "\n",
        "x_train_rf = train_data.drop('income', axis=1)  # Features\n",
        "y_train_rf = train_data['income']               # Target variable\n",
        "\n",
        "x_test_rf = test_data.drop('income', axis=1)  # Features\n",
        "y_test_rf = test_data['income']               # Target variable\n",
        "\n",
        "# Step 2:\n",
        "# Perform one-hot encoding if there are categorical variables\n",
        "# Example:\n",
        "\n",
        "'''\n",
        "OHE = One Hot Encoding. It's required to run the Random Forest Classifier from SKLEARN\n",
        "'''\n",
        "\n",
        "x_train_rf_ohe = pd.get_dummies(x_train_rf)\n",
        "x_test_rf_ohe = pd.get_dummies(x_test_rf)\n",
        "\n",
        "# Step 3: Instantiate the Random Forest Classifier\n",
        "# You can specify hyperparameters such as n_estimators, max_depth, etc.\n",
        "# Example:\n",
        "# rf_classifier = RandomForestClassifier(n_estimators=100, max_depth=10, random_state=42)\n",
        "rf_classifier_train = RandomForestClassifier(random_state=42)\n",
        "rf_classifier_test = RandomForestClassifier(random_state=42)\n",
        "\n",
        "# Step 4: Train the models\n",
        "rf_classifier_train.fit(x_train_rf_ohe, y_train_rf)\n",
        "rf_classifier_test.fit(x_test_rf_ohe, y_test_rf)\n",
        "\n",
        "# Step 5: Making predictions - Assuming 'new_data' is the new DataFrame\n",
        "# we want to check containing features (excluding the income column)\n",
        "\n",
        "# x_train_rf = train_data.drop('income', axis=1)  # Features\n",
        "# y_train_rf = train_data['income']               # Target variable\n",
        "predictions_train_rf = rf_classifier_train.predict(x_train_rf_ohe)\n",
        "\n",
        "predictions_test_rf = rf_classifier_test.predict(x_test_rf_ohe)\n",
        "\n",
        "print(\"Predictions in training \\n\")\n",
        "print(predictions_train_rf)\n",
        "\n",
        "print(\"Predictions in TESTING \\n\")\n",
        "print(predictions_test_rf)\n",
        "\n"
      ],
      "metadata": {
        "colab": {
          "base_uri": "https://localhost:8080/"
        },
        "id": "0Ur7xY-Iynum",
        "outputId": "a1351aab-cec5-4f00-dac2-3c4d1b2beb8b"
      },
      "execution_count": null,
      "outputs": [
        {
          "output_type": "stream",
          "name": "stdout",
          "text": [
            "Predictions in training \n",
            "\n",
            "[' <=50K' ' <=50K' ' <=50K' ... ' <=50K' ' <=50K' ' >50K']\n",
            "Predictions in TESTING \n",
            "\n",
            "[' <=50K.' ' <=50K.' ' >50K.' ... ' <=50K.' ' <=50K.' ' >50K.']\n"
          ]
        }
      ]
    },
    {
      "cell_type": "code",
      "source": [
        "'''\n",
        "Confusion matrix for Random Forests\n",
        "'''\n",
        "\n",
        "from sklearn.metrics import confusion_matrix, accuracy_score\n",
        "\n",
        "# Calculate confusion matrix\n",
        "conf_matrix_rf = confusion_matrix(y_test_rf, predictions_test_rf)\n",
        "\n",
        "# Calculate accuracy\n",
        "accuracy_rf = accuracy_score(y_test_rf, predictions_test_rf)\n",
        "\n",
        "print(\"Confusion Matrix:\")\n",
        "print(conf_matrix_rf)\n",
        "print(\"Accuracy:\", accuracy_rf)\n"
      ],
      "metadata": {
        "colab": {
          "base_uri": "https://localhost:8080/"
        },
        "id": "mYQimk567Eh-",
        "outputId": "dc8d6ab8-0770-4aab-bbeb-d79aa0447f92"
      },
      "execution_count": null,
      "outputs": [
        {
          "output_type": "stream",
          "name": "stdout",
          "text": [
            "Confusion Matrix:\n",
            "[[12435     0]\n",
            " [    1  3845]]\n",
            "Accuracy: 0.9999385787113814\n"
          ]
        }
      ]
    },
    {
      "cell_type": "code",
      "source": [
        "'''\n",
        "Code block to try to replace missing values\n",
        "'''\n",
        "\n",
        "# This function takes a dataframe and returns * A MODIFIED COPY *. Doesn't change the original\n",
        "def replace_question_marks(df, columns_to_replace):\n",
        "    most_common_elements = {}\n",
        "    most_common_counts = {}\n",
        "    df_copy = df.copy()  # Create a copy of the original DataFrame\n",
        "\n",
        "    for col in columns_to_replace:\n",
        "        # Find the most common element and its count in the column\n",
        "        value_counts = df[col].value_counts()\n",
        "        most_common = value_counts.idxmax()\n",
        "        most_common_count = value_counts.max()\n",
        "\n",
        "        most_common_elements[col] = most_common\n",
        "        most_common_counts[col] = most_common_count\n",
        "\n",
        "        # Replace ' ?' with the most common element in the column\n",
        "        df_copy[col] = df_copy[col].replace(' ?', most_common)\n",
        "\n",
        "    return df_copy, most_common_elements, most_common_counts\n",
        "\n",
        "columns_to_replace = ['work-class', 'occupation', 'native-country']\n",
        "\n"
      ],
      "metadata": {
        "id": "HB8i-cac7Exh"
      },
      "execution_count": null,
      "outputs": []
    },
    {
      "cell_type": "markdown",
      "source": [],
      "metadata": {
        "id": "U0uaprJC7DcR"
      }
    },
    {
      "cell_type": "code",
      "source": [
        "'''\n",
        "Testing without missing values\n",
        "'''\n",
        "data_train_modified_rf, most_common_elements_data_train_rf, most_common_counts_data_train_rf = replace_question_marks(train_data, columns_to_replace)\n",
        "data_test_modified_rf, most_common_elements_data_test_rf, most_common_counts_data_test_rf = replace_question_marks(test_data, columns_to_replace)\n",
        "\n",
        "# Step 1 - declaring x and y values for random forests\n",
        "\n",
        "x_train_rf_modified = data_train_modified_rf.drop('income', axis=1)  # Features\n",
        "y_train_rf_modified = data_train_modified_rf['income']               # Target variable\n",
        "\n",
        "x_test_rf_modified = data_test_modified_rf.drop('income', axis=1)  # Features\n",
        "y_test_rf_modified = data_test_modified_rf['income']               # Target variable\n",
        "\n",
        "# Step 2:\n",
        "# Perform one-hot encoding if there are categorical variables\n",
        "# Example:\n",
        "\n",
        "'''\n",
        "OHE = One Hot Encoding. It's required to run the Random Forest Classifier from SKLEARN\n",
        "'''\n",
        "\n",
        "x_train_rf_ohe_modified = pd.get_dummies(x_train_rf_modified)\n",
        "x_test_rf_ohe_modified = pd.get_dummies(x_test_rf_modified)\n",
        "\n",
        "# Step 3: Instantiate the Random Forest Classifier\n",
        "# You can specify hyperparameters such as n_estimators, max_depth, etc.\n",
        "# Example:\n",
        "# rf_classifier = RandomForestClassifier(n_estimators=100, max_depth=10, random_state=42)\n",
        "rf_classifier_train1 = RandomForestClassifier(random_state=42)\n",
        "rf_classifier_test1 = RandomForestClassifier(random_state=42)\n",
        "\n",
        "# Step 4: Train the models\n",
        "rf_classifier_train1.fit(x_train_rf_ohe_modified, y_train_rf_modified)\n",
        "rf_classifier_test1.fit(x_test_rf_ohe_modified, y_test_rf_modified)\n",
        "\n",
        "# Step 5: Making predictions - Assuming 'new_data' is the new DataFrame\n",
        "# we want to check containing features (excluding the income column)\n",
        "\n",
        "# x_train_rf = train_data.drop('income', axis=1)  # Features\n",
        "# y_train_rf = train_data['income']               # Target variable\n",
        "predictions_train_rf1 = rf_classifier_train1.predict(x_train_rf_ohe_modified)\n",
        "\n",
        "predictions_test_rf1 = rf_classifier_test1.predict(x_test_rf_ohe_modified)\n",
        "\n",
        "print(\"Predictions in training \\n\")\n",
        "print(predictions_train_rf1)\n",
        "\n",
        "print(\"Predictions in TESTING \\n\")\n",
        "print(predictions_test_rf1)\n",
        "\n"
      ],
      "metadata": {
        "colab": {
          "base_uri": "https://localhost:8080/"
        },
        "id": "AQrJenVdKWTE",
        "outputId": "d1fcf5ef-26c3-4c6a-a6a7-0df31687d865"
      },
      "execution_count": null,
      "outputs": [
        {
          "output_type": "stream",
          "name": "stdout",
          "text": [
            "Predictions in training \n",
            "\n",
            "[' <=50K' ' <=50K' ' <=50K' ... ' <=50K' ' <=50K' ' >50K']\n",
            "Predictions in TESTING \n",
            "\n",
            "[' <=50K.' ' <=50K.' ' >50K.' ... ' <=50K.' ' <=50K.' ' >50K.']\n"
          ]
        }
      ]
    },
    {
      "cell_type": "code",
      "source": [
        "'''\n",
        "Confusion matrix for Random Forests # Without missing\n",
        "'''\n",
        "\n",
        "from sklearn.metrics import confusion_matrix, accuracy_score\n",
        "\n",
        "# Calculate confusion matrix\n",
        "conf_matrix_rf1 = confusion_matrix(y_test_rf_modified, predictions_test_rf1)\n",
        "\n",
        "# Calculate accuracy\n",
        "accuracy_rf1 = accuracy_score(y_test_rf_modified, predictions_test_rf1)\n",
        "\n",
        "print(\"Confusion Matrix new:\")\n",
        "print(conf_matrix_rf1)\n",
        "print(\"Accuracy new:\", accuracy_rf1)\n"
      ],
      "metadata": {
        "colab": {
          "base_uri": "https://localhost:8080/"
        },
        "id": "jinjVxnMMYJ4",
        "outputId": "9488ba99-c3e0-479d-debb-4aeb3347b1f2"
      },
      "execution_count": null,
      "outputs": [
        {
          "output_type": "stream",
          "name": "stdout",
          "text": [
            "Confusion Matrix new:\n",
            "[[12435     0]\n",
            " [    1  3845]]\n",
            "Accuracy new: 0.9999385787113814\n"
          ]
        }
      ]
    },
    {
      "cell_type": "code",
      "source": [],
      "metadata": {
        "id": "U7SzXt03ZUBk"
      },
      "execution_count": null,
      "outputs": []
    }
  ]
}