{
  "nbformat": 4,
  "nbformat_minor": 0,
  "metadata": {
    "colab": {
      "provenance": [],
      "authorship_tag": "ABX9TyNUnZHsJ+OVXj9oUFvAt3+i",
      "include_colab_link": true
    },
    "kernelspec": {
      "name": "python3",
      "display_name": "Python 3"
    },
    "language_info": {
      "name": "python"
    }
  },
  "cells": [
    {
      "cell_type": "markdown",
      "metadata": {
        "id": "view-in-github",
        "colab_type": "text"
      },
      "source": [
        "<a href=\"https://colab.research.google.com/github/albertbaezd/data-mining-final-project/blob/main/Homework_1_Data_Mining.ipynb\" target=\"_parent\"><img src=\"https://colab.research.google.com/assets/colab-badge.svg\" alt=\"Open In Colab\"/></a>"
      ]
    },
    {
      "cell_type": "code",
      "execution_count": null,
      "metadata": {
        "id": "nChfLlTM4lDV",
        "colab": {
          "base_uri": "https://localhost:8080/"
        },
        "outputId": "44ec068b-5a17-4f17-e99b-c52305806239"
      },
      "outputs": [
        {
          "output_type": "stream",
          "name": "stdout",
          "text": [
            "\u001b[0m\u001b[01;34m'csv files'\u001b[0m/   \u001b[01;34msample_data\u001b[0m/\n"
          ]
        }
      ],
      "source": [
        "print('repository start')"
      ]
    }
  ]
}